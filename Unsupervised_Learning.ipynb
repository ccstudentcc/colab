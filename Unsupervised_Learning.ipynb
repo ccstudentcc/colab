{
  "cells": [
    {
      "cell_type": "code",
      "source": [
        "from google.colab import drive\n",
        "drive.mount('/content/drive')"
      ],
      "metadata": {
        "id": "pTMFlA96D-sw",
        "outputId": "e2ce926f-2f5c-4790-8f0d-798ea7ea031e",
        "colab": {
          "base_uri": "https://localhost:8080/"
        }
      },
      "id": "pTMFlA96D-sw",
      "execution_count": 1,
      "outputs": [
        {
          "output_type": "stream",
          "name": "stdout",
          "text": [
            "Mounted at /content/drive\n"
          ]
        }
      ]
    },
    {
      "cell_type": "code",
      "source": [
        "%cd /content/drive/MyDrive/KAN-Symbolic_Regression/"
      ],
      "metadata": {
        "id": "TbD3aT0lEH45",
        "outputId": "bf3cc840-04b2-4c78-fb01-c3c3d3fc1f74",
        "colab": {
          "base_uri": "https://localhost:8080/"
        }
      },
      "id": "TbD3aT0lEH45",
      "execution_count": 2,
      "outputs": [
        {
          "output_type": "stream",
          "name": "stdout",
          "text": [
            "/content/drive/MyDrive/KAN-Symbolic_Regression\n"
          ]
        }
      ]
    },
    {
      "cell_type": "code",
      "source": [
        "!pip install pykan sympy\n"
      ],
      "metadata": {
        "id": "gh825dZtD6tB",
        "outputId": "a256d572-f02d-4abc-ee77-1eb0531dc7f6",
        "colab": {
          "base_uri": "https://localhost:8080/"
        }
      },
      "id": "gh825dZtD6tB",
      "execution_count": 51,
      "outputs": [
        {
          "output_type": "stream",
          "name": "stdout",
          "text": [
            "Requirement already satisfied: pykan in /usr/local/lib/python3.12/dist-packages (0.2.8)\n",
            "Requirement already satisfied: sympy in /usr/local/lib/python3.12/dist-packages (1.13.3)\n",
            "Requirement already satisfied: mpmath<1.4,>=1.1.0 in /usr/local/lib/python3.12/dist-packages (from sympy) (1.3.0)\n"
          ]
        }
      ]
    },
    {
      "cell_type": "code",
      "id": "initial_id",
      "metadata": {
        "collapsed": true,
        "ExecuteTime": {
          "end_time": "2024-10-03T10:17:06.375261Z",
          "start_time": "2024-10-03T10:16:55.598879Z"
        },
        "id": "initial_id"
      },
      "source": [
        "import copy\n",
        "import gc\n",
        "import torch\n",
        "import sympy\n",
        "from kan import *"
      ],
      "outputs": [],
      "execution_count": 52
    },
    {
      "cell_type": "code",
      "source": [
        "gc.collect()"
      ],
      "metadata": {
        "id": "So8wvBx-Zc-V"
      },
      "id": "So8wvBx-Zc-V",
      "execution_count": null,
      "outputs": []
    },
    {
      "metadata": {
        "id": "d719ddd1566658c8"
      },
      "cell_type": "markdown",
      "source": [
        "# Unsupervised Learning\n",
        "In this test we try to solve an unsupervised learning problem. The data set consists of 7 variables with the following relationships:\n",
        "- $x_2=sin(6x_0)+e^{2x_1}$\n",
        "- $x_6=4x_3+x_4+x_5$\n",
        "\n",
        "KAN must discover these relationships based only on the value of these variables.\n",
        "\n",
        "## What is the best way forward?\n",
        "We could try to split the variables into two partitions, one for the dependent variable and the other for the independent variable(s). This would bring us back to supervised learning. However, this is computationally expensive, since $2^7-2$ different symbolic regression tasks would have to be considered.\n",
        "\n",
        "The authors devised a different approach that avoids the combinatorial explosion:\n",
        "1. We label all our points as 1.\n",
        "2. We add corrupted points, and label them as 0. Corruption is achieved by randomly permuting each feature to avoid hindering the original dataset topology.\n",
        "3. We solve a regression problem on the data set created in this way.\n",
        "\n",
        "## How to read the result?\n",
        "\n",
        "The solution function should be:\n",
        "$$g: \\begin{cases}\n",
        "g(x_{real})=1\\\\\n",
        "g(x_{fake})=0\n",
        "\\end{cases} $$\n",
        "\n",
        "Which is not exactly what we want:\n",
        "$$f: \\begin{cases}\n",
        "f(x_{real})=0\\\\\n",
        "f(x_{fake})\\neq0\n",
        "\\end{cases} $$\n",
        "\n",
        "Therefore, we add one extra final KAN layer and fix it with the Gaussian function $\\sigma(x)=e^{-\\frac{x^2}{2\\omega^2}}$, with $\\omega$ a small variance. This implies that $g=\\sigma\\circ f$"
      ],
      "id": "d719ddd1566658c8"
    },
    {
      "metadata": {
        "ExecuteTime": {
          "end_time": "2024-10-03T10:17:06.452865Z",
          "start_time": "2024-10-03T10:17:06.386775Z"
        },
        "id": "4a63d9f71f2470a1"
      },
      "cell_type": "code",
      "source": [
        "def create_dataset(train_num=1000, test_num=500):\n",
        "    def generate_contrastive(x):\n",
        "        # positive samples\n",
        "        batch = x.shape[0]\n",
        "        x[:, 2] = torch.sin(6 * x[:, 0]) + torch.exp(2 * x[:, 1])\n",
        "        x[:, 6] = 4 * x[:, 3] + x[:, 4] + x[:, 5]\n",
        "\n",
        "        # negative samples\n",
        "        x_cor = copy.deepcopy(x)\n",
        "        for i in range(x_cor.shape[1]):\n",
        "            x_cor[:, i] = x_cor[:, i][torch.randperm(x_cor.shape[0])]\n",
        "\n",
        "        inputs = torch.cat([x, x_cor], dim=0)\n",
        "        labels = torch.cat([torch.ones(batch, ), torch.zeros(batch, )], dim=0)[:, None]\n",
        "        return inputs, labels\n",
        "\n",
        "    x = torch.rand(train_num, 7) * 2 - 1\n",
        "    x_train, y_train = generate_contrastive(x)\n",
        "\n",
        "    x = torch.rand(test_num, 7) * 2 - 1\n",
        "    x_test, y_test = generate_contrastive(x)\n",
        "\n",
        "    dataset = {'train_input': x_train, 'test_input': x_test, 'train_label': y_train, 'test_label': y_test}\n",
        "    return dataset\n",
        "\n",
        "\n",
        "dataset = create_dataset()"
      ],
      "id": "4a63d9f71f2470a1",
      "outputs": [],
      "execution_count": 5
    },
    {
      "metadata": {
        "id": "9858427d7d68611e"
      },
      "cell_type": "markdown",
      "source": [
        "# First equation\n",
        "The model, with almost any seed, easily finds the equation $f(x_3,x_4,x_5,x_6)=4x_3+x_4+x_5-x_6=0$.\n",
        "\n",
        "We know for sure that the model has found a valid relationship when the loss decreases a lot. Of course, we always have the regularization penalty that prevents the total loss from becoming too small."
      ],
      "id": "9858427d7d68611e"
    },
    {
      "metadata": {
        "ExecuteTime": {
          "end_time": "2024-10-03T10:33:42.298406Z",
          "start_time": "2024-10-03T10:33:42.271891Z"
        },
        "id": "97837946e4dbe909",
        "outputId": "5ea42295-f4f4-42a5-a339-62a68fd435f8",
        "colab": {
          "base_uri": "https://localhost:8080/"
        }
      },
      "cell_type": "code",
      "source": [
        "model = KAN(width=[7, 1, 1], grid=3, k=3)\n",
        "model.fix_symbolic(1, 0, 0, 'gaussian', fit_params_bool=False)"
      ],
      "id": "97837946e4dbe909",
      "outputs": [
        {
          "output_type": "stream",
          "name": "stdout",
          "text": [
            "checkpoint directory created: ./model\n",
            "saving model version 0.0\n",
            "saving model version 0.1\n"
          ]
        }
      ],
      "execution_count": 23
    },
    {
      "metadata": {
        "ExecuteTime": {
          "end_time": "2024-10-03T10:38:08.436948Z",
          "start_time": "2024-10-03T10:38:03.193258Z"
        },
        "id": "5edf58a00f94da41",
        "outputId": "dd567789-dcfc-4c87-b8e4-c2ece996280a",
        "colab": {
          "base_uri": "https://localhost:8080/",
          "height": 435
        }
      },
      "cell_type": "code",
      "source": [
        "model.fit(dataset, opt=\"LBFGS\", steps=30, lamb=0.01, lamb_entropy=4.0)\n",
        "model.plot(in_vars=['x0','x1','x2','x3','x4','x5','x6'], scale=.5)"
      ],
      "id": "5edf58a00f94da41",
      "outputs": [
        {
          "output_type": "stream",
          "name": "stderr",
          "text": [
            "| train_loss: 1.64e-01 | test_loss: 1.88e-01 | reg: 7.59e+00 | : 100%|█| 30/30 [00:15<00:00,  1.90it\n"
          ]
        },
        {
          "output_type": "stream",
          "name": "stdout",
          "text": [
            "saving model version 0.2\n"
          ]
        },
        {
          "output_type": "display_data",
          "data": {
            "text/plain": [
              "<Figure size 500x400 with 11 Axes>"
            ],
            "image/png": "[encoded data removed]"
          },
          "metadata": {}
        }
      ],
      "execution_count": 24
    },
    {
      "cell_type": "code",
      "source": [
        "model.prune_edge()\n",
        "model.fit(dataset, steps=30)\n",
        "model.plot(in_vars=['x0','x1','x2','x3','x4','x5','x6'], scale=.5)"
      ],
      "metadata": {
        "id": "dJLBugyjaG_z",
        "outputId": "97b0d593-5a31-4afa-e269-3b4a92ffcfdf",
        "colab": {
          "base_uri": "https://localhost:8080/",
          "height": 452
        }
      },
      "id": "dJLBugyjaG_z",
      "execution_count": 25,
      "outputs": [
        {
          "output_type": "stream",
          "name": "stdout",
          "text": [
            "saving model version 0.3\n"
          ]
        },
        {
          "output_type": "stream",
          "name": "stderr",
          "text": [
            "| train_loss: 6.36e-02 | test_loss: 6.63e-02 | reg: 1.18e+01 | : 100%|█| 30/30 [00:12<00:00,  2.42it\n"
          ]
        },
        {
          "output_type": "stream",
          "name": "stdout",
          "text": [
            "saving model version 0.4\n"
          ]
        },
        {
          "output_type": "display_data",
          "data": {
            "text/plain": [
              "<Figure size 500x400 with 11 Axes>"
            ],
            "image/png": "[encoded data removed]"
          },
          "metadata": {}
        }
      ]
    },
    {
      "cell_type": "code",
      "source": [
        "model.auto_symbolic()\n",
        "model.plot()"
      ],
      "metadata": {
        "id": "_F6rhGygEoD-",
        "outputId": "7645c832-9842-4a8d-af25-235a75564cc4",
        "colab": {
          "base_uri": "https://localhost:8080/",
          "height": 501
        }
      },
      "id": "_F6rhGygEoD-",
      "execution_count": 26,
      "outputs": [
        {
          "output_type": "stream",
          "name": "stdout",
          "text": [
            "fixing (0,0,0) with 0\n",
            "fixing (0,1,0) with 0\n",
            "fixing (0,2,0) with 0\n",
            "fixing (0,3,0) with x, r2=0.9999880194664001, c=1\n",
            "fixing (0,4,0) with x, r2=0.9999932050704956, c=1\n",
            "fixing (0,5,0) with x, r2=0.9999639987945557, c=1\n",
            "fixing (0,6,0) with x, r2=0.9999979138374329, c=1\n",
            "skipping (1,0,0) since already symbolic\n",
            "saving model version 0.5\n"
          ]
        },
        {
          "output_type": "display_data",
          "data": {
            "text/plain": [
              "<Figure size 500x400 with 11 Axes>"
            ],
            "image/png": "[encoded data removed]"
          },
          "metadata": {}
        }
      ]
    },
    {
      "cell_type": "code",
      "source": [
        "model.fit(dataset, steps=20);"
      ],
      "metadata": {
        "id": "hwK_2O2xcp44",
        "outputId": "7387fa5c-f574-4fc2-c553-e522d7fcd36b",
        "colab": {
          "base_uri": "https://localhost:8080/"
        }
      },
      "id": "hwK_2O2xcp44",
      "execution_count": 27,
      "outputs": [
        {
          "output_type": "stream",
          "name": "stderr",
          "text": [
            "| train_loss: 2.71e-02 | test_loss: 3.63e-02 | reg: 0.00e+00 | : 100%|█| 20/20 [00:09<00:00,  2.12it"
          ]
        },
        {
          "output_type": "stream",
          "name": "stdout",
          "text": [
            "saving model version 0.6\n"
          ]
        },
        {
          "output_type": "stream",
          "name": "stderr",
          "text": [
            "\n"
          ]
        }
      ]
    },
    {
      "cell_type": "code",
      "source": [
        "formula = model.symbolic_formula()[0][0]\n",
        "nsimplify(ex_round(ex_round(ex_round(formula,6),3),3))"
      ],
      "metadata": {
        "id": "HnQQU8DxGjvZ",
        "outputId": "568d4d67-50c7-465b-dd2d-a42867a63814",
        "colab": {
          "base_uri": "https://localhost:8080/",
          "height": 68
        }
      },
      "id": "HnQQU8DxGjvZ",
      "execution_count": 54,
      "outputs": [
        {
          "output_type": "execute_result",
          "data": {
            "text/plain": [
              "-2/993 + 909*exp(-269725999*(x_4 + x_5/4 + x_6/4 - x_7/4 - 1/1024)**2/1000)/722"
            ],
            "text/latex": "$\\displaystyle - \\frac{2}{993} + \\frac{909 e^{- \\frac{269725999 \\left(x_{4} + \\frac{x_{5}}{4} + \\frac{x_{6}}{4} - \\frac{x_{7}}{4} - \\frac{1}{1024}\\right)^{2}}{1000}}}{722}$"
          },
          "metadata": {},
          "execution_count": 54
        }
      ]
    },
    {
      "metadata": {
        "id": "78d6d4fa62442a42"
      },
      "cell_type": "markdown",
      "source": [
        "# Second equation\n",
        "To find the other relationship, we could try different seeds until the KAN finds a different configuration. This is what the paper actually does.\n",
        "\n",
        "However, since the relationship $f(x_0,x_1,x_2)=sin(6x_0)+e^{2x_1}-x_2=0$ is much harder to find the other one, we could use a clever trick. Using the prior knowledge that the relations do not have overlapping variables, we deactivate the edges of the variables $x_3,x_4,x_5,x_6$ and then train the KAN from scratch."
      ],
      "id": "78d6d4fa62442a42"
    },
    {
      "metadata": {
        "ExecuteTime": {
          "end_time": "2024-10-03T10:39:13.492381Z",
          "start_time": "2024-10-03T10:38:55.219370Z"
        },
        "id": "9d056e7526ba36b0",
        "outputId": "d0a1baab-133f-422a-87c4-981a614bf8e1",
        "colab": {
          "base_uri": "https://localhost:8080/",
          "height": 556
        }
      },
      "cell_type": "code",
      "source": [
        "model2 = KAN(width=[7, 1, 1], grid=3, k=3)\n",
        "model2.fix_symbolic(1, 0, 0, 'gaussian', fit_params_bool=False)\n",
        "for l, i, j in [(0, 3, 0), (0, 4, 0), (0, 5, 0), (0, 6, 0)]:\n",
        "    model2.fix_symbolic(l, i, j, '0', fit_params_bool=False)\n",
        "model2.fit(dataset, opt=\"LBFGS\", steps=40, lamb=0.0001, lamb_entropy=4.0)\n",
        "model2.plot(in_vars=['x0','x1','x2','x3','x4','x5','x6'], scale=.5)\n"
      ],
      "id": "9d056e7526ba36b0",
      "outputs": [
        {
          "output_type": "stream",
          "name": "stdout",
          "text": [
            "checkpoint directory created: ./model\n",
            "saving model version 0.0\n",
            "saving model version 0.1\n",
            "saving model version 0.2\n",
            "saving model version 0.3\n",
            "saving model version 0.4\n",
            "saving model version 0.5\n"
          ]
        },
        {
          "output_type": "stream",
          "name": "stderr",
          "text": [
            "| train_loss: 2.04e-01 | test_loss: 2.11e-01 | reg: 9.31e+00 | : 100%|█| 40/40 [00:19<00:00,  2.02it\n"
          ]
        },
        {
          "output_type": "stream",
          "name": "stdout",
          "text": [
            "saving model version 0.6\n"
          ]
        },
        {
          "output_type": "display_data",
          "data": {
            "text/plain": [
              "<Figure size 500x400 with 11 Axes>"
            ],
            "image/png": "[encoded data removed]"
          },
          "metadata": {}
        }
      ],
      "execution_count": 45
    },
    {
      "cell_type": "code",
      "source": [
        "model2.prune_edge()\n",
        "model2.fit(dataset,steps=20);"
      ],
      "metadata": {
        "id": "hLo0zD6qgdFO",
        "outputId": "9cd313f9-a961-4b05-cea0-8932ec6524ad",
        "colab": {
          "base_uri": "https://localhost:8080/"
        }
      },
      "id": "hLo0zD6qgdFO",
      "execution_count": 42,
      "outputs": [
        {
          "output_type": "stream",
          "name": "stdout",
          "text": [
            "saving model version 0.7\n"
          ]
        },
        {
          "output_type": "stream",
          "name": "stderr",
          "text": [
            "| train_loss: 2.02e-01 | test_loss: 2.06e-01 | reg: 6.18e+00 | : 100%|█| 20/20 [00:09<00:00,  2.12it"
          ]
        },
        {
          "output_type": "stream",
          "name": "stdout",
          "text": [
            "saving model version 0.8\n"
          ]
        },
        {
          "output_type": "stream",
          "name": "stderr",
          "text": [
            "\n"
          ]
        }
      ]
    },
    {
      "cell_type": "code",
      "source": [
        "model2.suggest_symbolic(0,0,0)"
      ],
      "metadata": {
        "id": "OA-x9HgeiDRd",
        "outputId": "ab6a8a4a-c943-4fa4-95bc-60ddf039a7aa",
        "colab": {
          "base_uri": "https://localhost:8080/"
        }
      },
      "id": "OA-x9HgeiDRd",
      "execution_count": 47,
      "outputs": [
        {
          "output_type": "stream",
          "name": "stdout",
          "text": [
            "  function  fitting r2   r2 loss  complexity  complexity loss  total loss\n",
            "0        0    0.000000  0.000014           0                0    0.000003\n",
            "1      cos    0.987357 -6.304427           2                2    0.339115\n",
            "2      sin    0.987357 -6.304427           2                2    0.339115\n",
            "3        x    0.109204 -0.166817           1                1    0.766637\n",
            "4      exp    0.181042 -0.288121           2                2    1.542376\n"
          ]
        },
        {
          "output_type": "execute_result",
          "data": {
            "text/plain": [
              "('0',\n",
              " (<function kan.utils.<lambda>(x)>,\n",
              "  <function kan.utils.<lambda>(x)>,\n",
              "  0,\n",
              "  <function kan.utils.<lambda>(x, y_th)>),\n",
              " np.float64(0.0),\n",
              " np.int64(0))"
            ]
          },
          "metadata": {},
          "execution_count": 47
        }
      ]
    },
    {
      "cell_type": "code",
      "source": [
        "model2.fix_symbolic(0,0,0,'sin')"
      ],
      "metadata": {
        "id": "BpEgghBHizKc",
        "outputId": "01622329-09d2-40a7-cf93-3c3040f4c5be",
        "colab": {
          "base_uri": "https://localhost:8080/"
        }
      },
      "id": "BpEgghBHizKc",
      "execution_count": 48,
      "outputs": [
        {
          "output_type": "stream",
          "name": "stdout",
          "text": [
            "r2 is 0.9873574376106262\n",
            "saving model version 0.7\n"
          ]
        },
        {
          "output_type": "execute_result",
          "data": {
            "text/plain": [
              "tensor(0.9874)"
            ]
          },
          "metadata": {},
          "execution_count": 48
        }
      ]
    },
    {
      "metadata": {
        "ExecuteTime": {
          "end_time": "2024-10-03T10:21:04.091359Z",
          "start_time": "2024-10-03T10:20:50.166646Z"
        },
        "id": "347982db9a0721a8",
        "outputId": "9aa6c3b1-a051-4565-a8fb-1a006904fb4e",
        "colab": {
          "base_uri": "https://localhost:8080/",
          "height": 556
        }
      },
      "cell_type": "code",
      "source": [
        "model2.auto_symbolic()\n",
        "model2.fit(dataset,steps=20);\n",
        "model2.plot()"
      ],
      "id": "347982db9a0721a8",
      "outputs": [
        {
          "output_type": "stream",
          "name": "stdout",
          "text": [
            "skipping (0,0,0) since already symbolic\n",
            "fixing (0,1,0) with exp, r2=0.9999696016311646, c=2\n",
            "fixing (0,2,0) with x, r2=0.9997296929359436, c=1\n",
            "skipping (0,3,0) since already symbolic\n",
            "skipping (0,4,0) since already symbolic\n",
            "skipping (0,5,0) since already symbolic\n",
            "skipping (0,6,0) since already symbolic\n",
            "skipping (1,0,0) since already symbolic\n",
            "saving model version 0.8\n"
          ]
        },
        {
          "output_type": "stream",
          "name": "stderr",
          "text": [
            "| train_loss: 2.50e-02 | test_loss: 1.38e-02 | reg: 0.00e+00 | : 100%|█| 20/20 [00:08<00:00,  2.39it\n"
          ]
        },
        {
          "output_type": "stream",
          "name": "stdout",
          "text": [
            "saving model version 0.9\n"
          ]
        },
        {
          "output_type": "display_data",
          "data": {
            "text/plain": [
              "<Figure size 500x400 with 11 Axes>"
            ],
            "image/png": "[encoded data removed]"
          },
          "metadata": {}
        }
      ],
      "execution_count": 49
    },
    {
      "cell_type": "code",
      "source": [
        "formula2 = model2.symbolic_formula()[0][0]\n",
        "nsimplify(ex_round(ex_round(ex_round(formula2,6),3),3))"
      ],
      "metadata": {
        "id": "1R12udevE8jE",
        "outputId": "7381c633-7226-48a9-b3a7-b2baa0268922",
        "colab": {
          "base_uri": "https://localhost:8080/",
          "height": 61
        }
      },
      "id": "1R12udevE8jE",
      "execution_count": 53,
      "outputs": [
        {
          "output_type": "execute_result",
          "data": {
            "text/plain": [
              "1/993 + exp(-7059493*(-x_3 + exp(2*x_2) - sin(6*x_1 - 9427/1000))**2/1000)"
            ],
            "text/latex": "$\\displaystyle \\frac{1}{993} + e^{- \\frac{7059493 \\left(- x_{3} + e^{2 x_{2}} - \\sin{\\left(6 x_{1} - \\frac{9427}{1000} \\right)}\\right)^{2}}{1000}}$"
          },
          "metadata": {},
          "execution_count": 53
        }
      ]
    }
  ],
  "metadata": {
    "kernelspec": {
      "display_name": "Python 3",
      "language": "python",
      "name": "python3"
    },
    "language_info": {
      "codemirror_mode": {
        "name": "ipython",
        "version": 2
      },
      "file_extension": ".py",
      "mimetype": "text/x-python",
      "name": "python",
      "nbconvert_exporter": "python",
      "pygments_lexer": "ipython2",
      "version": "2.7.6"
    },
    "colab": {
      "provenance": []
    }
  },
  "nbformat": 4,
  "nbformat_minor": 5
}